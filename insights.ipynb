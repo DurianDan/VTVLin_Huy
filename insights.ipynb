{
 "cells": [
  {
   "cell_type": "code",
   "execution_count": 1,
   "metadata": {},
   "outputs": [],
   "source": [
    "import polars as pl\n",
    "import pandas as pd\n",
    "import matplotlib.pyplot as plt"
   ]
  },
  {
   "cell_type": "code",
   "execution_count": 2,
   "metadata": {},
   "outputs": [],
   "source": [
    "content = pl.read_ipc(\"data/articles_content.arrow\")\n",
    "articles = pl.read_ipc(\"data/vtv_articles.feather\")"
   ]
  },
  {
   "cell_type": "code",
   "execution_count": 3,
   "metadata": {},
   "outputs": [],
   "source": [
    "whole = content.join(articles,on=\"link\").select([\n",
    "    \"link\",\n",
    "    \"title\",\n",
    "    pl.col(\"datetime\").str.strptime(pl.Datetime, \"%d/%m/%Y %H:%M\"),\n",
    "    \"author\",\n",
    "    \"tags\",\n",
    "    \"description\",\n",
    "    \"contents\",\n",
    "    \"whole_website\"\n",
    "]\n",
    ")"
   ]
  },
  {
   "cell_type": "code",
   "execution_count": 8,
   "metadata": {},
   "outputs": [
    {
     "data": {
      "text/html": [
       "<div>\n",
       "<style scoped>\n",
       "    .dataframe tbody tr th:only-of-type {\n",
       "        vertical-align: middle;\n",
       "    }\n",
       "\n",
       "    .dataframe tbody tr th {\n",
       "        vertical-align: top;\n",
       "    }\n",
       "\n",
       "    .dataframe thead th {\n",
       "        text-align: right;\n",
       "    }\n",
       "</style>\n",
       "<table border=\"1\" class=\"dataframe\">\n",
       "  <thead>\n",
       "    <tr style=\"text-align: right;\">\n",
       "      <th></th>\n",
       "      <th>author</th>\n",
       "      <th>count</th>\n",
       "    </tr>\n",
       "  </thead>\n",
       "  <tbody>\n",
       "    <tr>\n",
       "      <th>0</th>\n",
       "      <td>Ảnh và bài: Tiến Dũng</td>\n",
       "      <td>1</td>\n",
       "    </tr>\n",
       "    <tr>\n",
       "      <th>1</th>\n",
       "      <td>Đức Đệ, Hữu Phương (VTV9)</td>\n",
       "      <td>1</td>\n",
       "    </tr>\n",
       "    <tr>\n",
       "      <th>2</th>\n",
       "      <td>Đức Đệ - Uyên Phương (VTV9)</td>\n",
       "      <td>1</td>\n",
       "    </tr>\n",
       "    <tr>\n",
       "      <th>3</th>\n",
       "      <td>Đức Vân,</td>\n",
       "      <td>1</td>\n",
       "    </tr>\n",
       "    <tr>\n",
       "      <th>4</th>\n",
       "      <td>Đức Triệt (Tuổi trẻ Online)</td>\n",
       "      <td>1</td>\n",
       "    </tr>\n",
       "    <tr>\n",
       "      <th>...</th>\n",
       "      <td>...</td>\n",
       "      <td>...</td>\n",
       "    </tr>\n",
       "    <tr>\n",
       "      <th>95</th>\n",
       "      <td>Đào Huyền - Trương Thủy</td>\n",
       "      <td>1</td>\n",
       "    </tr>\n",
       "    <tr>\n",
       "      <th>96</th>\n",
       "      <td>Đào Hiền, Đăng Dũng</td>\n",
       "      <td>1</td>\n",
       "    </tr>\n",
       "    <tr>\n",
       "      <th>97</th>\n",
       "      <td>Đào Hiền,</td>\n",
       "      <td>2</td>\n",
       "    </tr>\n",
       "    <tr>\n",
       "      <th>98</th>\n",
       "      <td>Đài PT-TH Tuyên Quang</td>\n",
       "      <td>1</td>\n",
       "    </tr>\n",
       "    <tr>\n",
       "      <th>99</th>\n",
       "      <td>Đài PT-TH Thái Nguyên</td>\n",
       "      <td>1</td>\n",
       "    </tr>\n",
       "  </tbody>\n",
       "</table>\n",
       "<p>100 rows × 2 columns</p>\n",
       "</div>"
      ],
      "text/plain": [
       "                         author  count\n",
       "0         Ảnh và bài: Tiến Dũng      1\n",
       "1     Đức Đệ, Hữu Phương (VTV9)      1\n",
       "2   Đức Đệ - Uyên Phương (VTV9)      1\n",
       "3                      Đức Vân,      1\n",
       "4   Đức Triệt (Tuổi trẻ Online)      1\n",
       "..                          ...    ...\n",
       "95      Đào Huyền - Trương Thủy      1\n",
       "96          Đào Hiền, Đăng Dũng      1\n",
       "97                    Đào Hiền,      2\n",
       "98        Đài PT-TH Tuyên Quang      1\n",
       "99        Đài PT-TH Thái Nguyên      1\n",
       "\n",
       "[100 rows x 2 columns]"
      ]
     },
     "execution_count": 8,
     "metadata": {},
     "output_type": "execute_result"
    }
   ],
   "source": [
    "insight1 = whole.groupby([\"author\"]).agg(pl.count()\n",
    ").sort(by=\"author\", descending=True).to_pandas()"
   ]
  },
  {
   "cell_type": "code",
   "execution_count": 9,
   "metadata": {},
   "outputs": [],
   "source": [
    "insight1[\"count_authors\"] = insight1[\"author\"].apply(lambda x: x.count(\" - \") + x.count(\",\"))"
   ]
  },
  {
   "cell_type": "code",
   "execution_count": 12,
   "metadata": {},
   "outputs": [
    {
     "data": {
      "text/html": [
       "<div>\n",
       "<style scoped>\n",
       "    .dataframe tbody tr th:only-of-type {\n",
       "        vertical-align: middle;\n",
       "    }\n",
       "\n",
       "    .dataframe tbody tr th {\n",
       "        vertical-align: top;\n",
       "    }\n",
       "\n",
       "    .dataframe thead th {\n",
       "        text-align: right;\n",
       "    }\n",
       "</style>\n",
       "<table border=\"1\" class=\"dataframe\">\n",
       "  <thead>\n",
       "    <tr style=\"text-align: right;\">\n",
       "      <th></th>\n",
       "      <th>author</th>\n",
       "      <th>count</th>\n",
       "      <th>count_authors</th>\n",
       "    </tr>\n",
       "  </thead>\n",
       "  <tbody>\n",
       "    <tr>\n",
       "      <th>0</th>\n",
       "      <td>Ảnh và bài: Tiến Dũng</td>\n",
       "      <td>1</td>\n",
       "      <td>0</td>\n",
       "    </tr>\n",
       "    <tr>\n",
       "      <th>1337</th>\n",
       "      <td>Nguyễn Văn Vinh (Đài THVN)</td>\n",
       "      <td>1</td>\n",
       "      <td>0</td>\n",
       "    </tr>\n",
       "    <tr>\n",
       "      <th>1336</th>\n",
       "      <td>Nguyễn Điền</td>\n",
       "      <td>5</td>\n",
       "      <td>0</td>\n",
       "    </tr>\n",
       "    <tr>\n",
       "      <th>1330</th>\n",
       "      <td>Nguyệt Mai</td>\n",
       "      <td>2</td>\n",
       "      <td>0</td>\n",
       "    </tr>\n",
       "    <tr>\n",
       "      <th>1329</th>\n",
       "      <td>Nguyệt Mai (t/h)</td>\n",
       "      <td>2</td>\n",
       "      <td>0</td>\n",
       "    </tr>\n",
       "    <tr>\n",
       "      <th>...</th>\n",
       "      <td>...</td>\n",
       "      <td>...</td>\n",
       "      <td>...</td>\n",
       "    </tr>\n",
       "    <tr>\n",
       "      <th>1938</th>\n",
       "      <td>Hoài Thương, Gia Long, Tiến Tú, Nguyên Thảo, D...</td>\n",
       "      <td>1</td>\n",
       "      <td>4</td>\n",
       "    </tr>\n",
       "    <tr>\n",
       "      <th>1373</th>\n",
       "      <td>Nguyễn Mai, Đình Nguyên (Tham khảo: Forbes, AA...</td>\n",
       "      <td>1</td>\n",
       "      <td>5</td>\n",
       "    </tr>\n",
       "    <tr>\n",
       "      <th>770</th>\n",
       "      <td>Thanh Hiệp (Tổng hợp từ Reuters, Bangkok Post,...</td>\n",
       "      <td>1</td>\n",
       "      <td>5</td>\n",
       "    </tr>\n",
       "    <tr>\n",
       "      <th>227</th>\n",
       "      <td>Việt Linh (Tổng hợp Guardian, Euronews, Vox, C...</td>\n",
       "      <td>1</td>\n",
       "      <td>5</td>\n",
       "    </tr>\n",
       "    <tr>\n",
       "      <th>473</th>\n",
       "      <td>Trung Nghĩa, Đỗ Vĩnh, Trần Long, Phúc Châu, Hữ...</td>\n",
       "      <td>1</td>\n",
       "      <td>6</td>\n",
       "    </tr>\n",
       "  </tbody>\n",
       "</table>\n",
       "<p>2368 rows × 3 columns</p>\n",
       "</div>"
      ],
      "text/plain": [
       "                                                 author  count  count_authors\n",
       "0                                 Ảnh và bài: Tiến Dũng      1              0\n",
       "1337                         Nguyễn Văn Vinh (Đài THVN)      1              0\n",
       "1336                                        Nguyễn Điền      5              0\n",
       "1330                                         Nguyệt Mai      2              0\n",
       "1329                                   Nguyệt Mai (t/h)      2              0\n",
       "...                                                 ...    ...            ...\n",
       "1938  Hoài Thương, Gia Long, Tiến Tú, Nguyên Thảo, D...      1              4\n",
       "1373  Nguyễn Mai, Đình Nguyên (Tham khảo: Forbes, AA...      1              5\n",
       "770   Thanh Hiệp (Tổng hợp từ Reuters, Bangkok Post,...      1              5\n",
       "227   Việt Linh (Tổng hợp Guardian, Euronews, Vox, C...      1              5\n",
       "473   Trung Nghĩa, Đỗ Vĩnh, Trần Long, Phúc Châu, Hữ...      1              6\n",
       "\n",
       "[2368 rows x 3 columns]"
      ]
     },
     "execution_count": 12,
     "metadata": {},
     "output_type": "execute_result"
    }
   ],
   "source": [
    "insight1.sort_values(by=\"count_authors\")"
   ]
  },
  {
   "cell_type": "code",
   "execution_count": null,
   "metadata": {},
   "outputs": [],
   "source": [
    "insight1 = insight1.set_index([\"author\",\"month\"],drop=True)"
   ]
  },
  {
   "cell_type": "code",
   "execution_count": null,
   "metadata": {},
   "outputs": [],
   "source": [
    "insight1.groupby(['author','month']).sum()"
   ]
  },
  {
   "cell_type": "code",
   "execution_count": null,
   "metadata": {},
   "outputs": [],
   "source": [
    "# create a sample dataframe\n",
    "data = {'count': [10, 20, 30, 15, 25, 35],\n",
    "        'month': ['Jan', 'Feb', 'Mar', 'Jan', 'Feb', 'Mar'],\n",
    "        'author': ['Alice', 'Alice', 'Alice', 'Bob', 'Bob', 'Bob']}\n",
    "df = pd.DataFrame(data)\n",
    "\n",
    "# group the data by author and month\n",
    "grouped = df.groupby(['author', 'month']).sum()\n",
    "grouped"
   ]
  },
  {
   "cell_type": "code",
   "execution_count": null,
   "metadata": {},
   "outputs": [],
   "source": [
    "# create a plot with multiple lines for each author\n",
    "fig, ax = plt.subplots()\n",
    "for author, data in insight1.groupby(level=0):\n",
    "    data.plot(y='count', ax=ax, label=author)\n",
    "\n",
    "# set the x-axis label and title\n",
    "ax.set_xlabel('Month')\n",
    "ax.set_title('Count by Author and Month')\n",
    "\n",
    "# show the legend\n",
    "ax.legend()\n",
    "\n",
    "# show the plot\n",
    "plt.show()\n"
   ]
  },
  {
   "cell_type": "code",
   "execution_count": null,
   "metadata": {},
   "outputs": [],
   "source": []
  }
 ],
 "metadata": {
  "kernelspec": {
   "display_name": "Python 3",
   "language": "python",
   "name": "python3"
  },
  "language_info": {
   "codemirror_mode": {
    "name": "ipython",
    "version": 3
   },
   "file_extension": ".py",
   "mimetype": "text/x-python",
   "name": "python",
   "nbconvert_exporter": "python",
   "pygments_lexer": "ipython3",
   "version": "3.10.10"
  },
  "orig_nbformat": 4,
  "vscode": {
   "interpreter": {
    "hash": "31f2aee4e71d21fbe5cf8b01ff0e069b9275f58929596ceb00d14d90e3e16cd6"
   }
  }
 },
 "nbformat": 4,
 "nbformat_minor": 2
}
