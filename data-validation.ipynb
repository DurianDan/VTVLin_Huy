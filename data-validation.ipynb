{
 "cells": [
  {
   "cell_type": "code",
   "execution_count": 13,
   "metadata": {},
   "outputs": [],
   "source": [
    "import polars as pl"
   ]
  },
  {
   "cell_type": "code",
   "execution_count": 14,
   "metadata": {},
   "outputs": [
    {
     "name": "stderr",
     "output_type": "stream",
     "text": [
      "could not mmap compressed IPC file, defaulting to normal read"
     ]
    }
   ],
   "source": [
    "vtv_news = pl.read_ipc(\"data/vtv_articles_2.feather\")\n",
    "\n",
    "vtv_news = pl.concat([\n",
    "    vtv_news,\n",
    "    pl.read_ipc(\"data/vtv_articles.feather\")\n",
    "])"
   ]
  },
  {
   "cell_type": "code",
   "execution_count": 16,
   "metadata": {},
   "outputs": [],
   "source": [
    "vtv_news.unique(subset=\"link\").write_ipc(\"data/vtv_articles.feather\")\n",
    "# vtv_news.unique(subset=\"link\").shape"
   ]
  },
  {
   "attachments": {},
   "cell_type": "markdown",
   "metadata": {},
   "source": [
    "# check\n",
    "|datetime|number of articles|  \n",
    "|-|-|\n",
    "|202303121440|61178| \n",
    "|202303121503|61307| \n",
    "|202303121905|61307| "
   ]
  },
  {
   "cell_type": "markdown",
   "metadata": {},
   "source": []
  }
 ],
 "metadata": {
  "kernelspec": {
   "display_name": "Python 3",
   "language": "python",
   "name": "python3"
  },
  "language_info": {
   "codemirror_mode": {
    "name": "ipython",
    "version": 3
   },
   "file_extension": ".py",
   "mimetype": "text/x-python",
   "name": "python",
   "nbconvert_exporter": "python",
   "pygments_lexer": "ipython3",
   "version": "3.10.6"
  },
  "orig_nbformat": 4,
  "vscode": {
   "interpreter": {
    "hash": "31f2aee4e71d21fbe5cf8b01ff0e069b9275f58929596ceb00d14d90e3e16cd6"
   }
  }
 },
 "nbformat": 4,
 "nbformat_minor": 2
}
